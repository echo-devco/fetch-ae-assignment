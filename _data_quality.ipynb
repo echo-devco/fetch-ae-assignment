{
 "cells": [
  {
   "cell_type": "code",
   "execution_count": null,
   "metadata": {},
   "outputs": [],
   "source": [
    "import duckdb\n",
    "import pandas as pd\n",
    "\n",
    "%load_ext sql"
   ]
  },
  {
   "cell_type": "code",
   "execution_count": 3,
   "metadata": {},
   "outputs": [],
   "source": [
    "%config SqlMagic.autopandas = True\n",
    "%config SqlMagic.feedback = False\n",
    "%config SqlMagic.displaycon = False"
   ]
  },
  {
   "cell_type": "code",
   "execution_count": 4,
   "metadata": {},
   "outputs": [],
   "source": [
    "con = duckdb.connect(database = \"dev.duckdb\", read_only = True)"
   ]
  },
  {
   "cell_type": "markdown",
   "metadata": {},
   "source": [
    "#### Evaluation of stg_receipts"
   ]
  },
  {
   "cell_type": "code",
   "execution_count": 8,
   "metadata": {},
   "outputs": [],
   "source": [
    "receipts_df = con.sql('from stg_receipts').fetchdf()"
   ]
  },
  {
   "cell_type": "code",
   "execution_count": 11,
   "metadata": {},
   "outputs": [
    {
     "data": {
      "text/plain": [
       "0"
      ]
     },
     "execution_count": 11,
     "metadata": {},
     "output_type": "execute_result"
    }
   ],
   "source": [
    "# Check for null PK (receiptId) values\n",
    "len(receipts_df[receipts_df['receiptId'].isnull()])"
   ]
  },
  {
   "cell_type": "code",
   "execution_count": 26,
   "metadata": {},
   "outputs": [
    {
     "data": {
      "text/plain": [
       "True"
      ]
     },
     "execution_count": 26,
     "metadata": {},
     "output_type": "execute_result"
    }
   ],
   "source": [
    "# Check for duplicate PK (receiptId) values\n",
    "receipts_df['receiptId'].nunique(dropna=False) == len(receipts_df)"
   ]
  },
  {
   "cell_type": "code",
   "execution_count": 12,
   "metadata": {},
   "outputs": [
    {
     "data": {
      "text/plain": [
       "0"
      ]
     },
     "execution_count": 12,
     "metadata": {},
     "output_type": "execute_result"
    }
   ],
   "source": [
    "# Check for null FK (userId) values\n",
    "len(receipts_df[receipts_df['userId'].isnull()])"
   ]
  },
  {
   "cell_type": "code",
   "execution_count": null,
   "metadata": {},
   "outputs": [
    {
     "data": {
      "text/plain": [
       "userId\n",
       "24    1119\n",
       "Name: count, dtype: int64"
      ]
     },
     "execution_count": 23,
     "metadata": {},
     "output_type": "execute_result"
    }
   ],
   "source": [
    "# Evaluate length of 'userId' attribute\n",
    "receipts_df['userId'].str.len().value_counts()"
   ]
  },
  {
   "cell_type": "code",
   "execution_count": 25,
   "metadata": {},
   "outputs": [
    {
     "name": "stdout",
     "output_type": "stream",
     "text": [
      "2021-03-01 16:17:34.772000-07:00\n",
      "2020-10-30 14:17:59-06:00\n"
     ]
    }
   ],
   "source": [
    "# Check the recency of transactions\n",
    "print(receipts_df['createDate'].max())\n",
    "print(receipts_df['createDate'].min())"
   ]
  },
  {
   "cell_type": "markdown",
   "metadata": {},
   "source": [
    "#### Evaluation of stg_brands"
   ]
  },
  {
   "cell_type": "code",
   "execution_count": 27,
   "metadata": {},
   "outputs": [],
   "source": [
    "brands_df = con.sql('from stg_brands').fetchdf()"
   ]
  },
  {
   "cell_type": "code",
   "execution_count": 28,
   "metadata": {},
   "outputs": [
    {
     "data": {
      "text/plain": [
       "True"
      ]
     },
     "execution_count": 28,
     "metadata": {},
     "output_type": "execute_result"
    }
   ],
   "source": [
    "# Check for duplicate PK (brandId) values\n",
    "brands_df['brandId'].nunique(dropna=False) == len(brands_df)"
   ]
  },
  {
   "cell_type": "code",
   "execution_count": 29,
   "metadata": {},
   "outputs": [
    {
     "data": {
      "text/plain": [
       "False"
      ]
     },
     "execution_count": 29,
     "metadata": {},
     "output_type": "execute_result"
    }
   ],
   "source": [
    "# Check for duplicate FK (barcode) values\n",
    "brands_df['barcode'].nunique(dropna=False) == len(brands_df)"
   ]
  },
  {
   "cell_type": "code",
   "execution_count": 30,
   "metadata": {},
   "outputs": [
    {
     "name": "stdout",
     "output_type": "stream",
     "text": [
      "          barcode  record_count\n",
      "46   511111004790             2\n",
      "282  511111204923             2\n",
      "400  511111305125             2\n",
      "622  511111504139             2\n",
      "628  511111504788             2\n",
      "745  511111605058             2\n",
      "852  511111704140             2\n"
     ]
    }
   ],
   "source": [
    "# Display duplicate values\n",
    "brands_size = brands_df.groupby('barcode').size().reset_index(name='record_count')\n",
    "\n",
    "print(brands_size[brands_size['record_count'] > 1].sort_values(by='record_count', ascending=False))"
   ]
  },
  {
   "cell_type": "markdown",
   "metadata": {},
   "source": [
    "#### Evaluation of stg_users"
   ]
  },
  {
   "cell_type": "code",
   "execution_count": 32,
   "metadata": {},
   "outputs": [],
   "source": [
    "users_df = con.sql('from stg_users').fetchdf()"
   ]
  },
  {
   "cell_type": "code",
   "execution_count": 33,
   "metadata": {},
   "outputs": [
    {
     "data": {
      "text/plain": [
       "False"
      ]
     },
     "execution_count": 33,
     "metadata": {},
     "output_type": "execute_result"
    }
   ],
   "source": [
    "# Check for duplicate PK (userId) values\n",
    "users_df['userId'].nunique(dropna=False) == len(users_df)"
   ]
  },
  {
   "cell_type": "code",
   "execution_count": 34,
   "metadata": {},
   "outputs": [
    {
     "name": "stdout",
     "output_type": "stream",
     "text": [
      "                       userId  record_count\n",
      "0    54943462e4b07e684157a532            20\n",
      "11   5fc961c3b8cfca11a077dd33            20\n",
      "3    59c124bae4b0299e55b0f330            18\n",
      "8    5fa41775898c7a11a6bcef3e            18\n",
      "34   5ff5d15aeb7c7d12096d91a2            18\n",
      "..                        ...           ...\n",
      "51   5ff873ddb3348b11c9337733             2\n",
      "42   5ff73b90eb7c7d31ca8a452b             2\n",
      "40   5ff7268eeb7c7d12096da2a9             2\n",
      "9    5fb0a078be5fc9775c1f3945             2\n",
      "203  60229990b57b8a12187fe9e0             2\n",
      "\n",
      "[70 rows x 2 columns]\n"
     ]
    }
   ],
   "source": [
    "# Display duplicate values\n",
    "users_size = users_df.groupby('userId').size().reset_index(name='record_count')\n",
    "\n",
    "print(users_size[users_size['record_count'] > 1].sort_values(by='record_count', ascending=False))"
   ]
  },
  {
   "cell_type": "code",
   "execution_count": 36,
   "metadata": {},
   "outputs": [
    {
     "name": "stdout",
     "output_type": "stream",
     "text": [
      "2021-02-12 07:11:06.240000-07:00\n",
      "2014-12-19 07:21:22.381000-07:00\n"
     ]
    }
   ],
   "source": [
    "# Check the range of user creation dates\n",
    "print(users_df['createdDate'].max())\n",
    "print(users_df['createdDate'].min())"
   ]
  },
  {
   "cell_type": "markdown",
   "metadata": {},
   "source": [
    "#### Evaluation of int_receiptItems"
   ]
  },
  {
   "cell_type": "code",
   "execution_count": 37,
   "metadata": {},
   "outputs": [],
   "source": [
    "receipt_items_df = con.sql('from int_receiptItems').fetchdf()"
   ]
  },
  {
   "cell_type": "code",
   "execution_count": 40,
   "metadata": {},
   "outputs": [
    {
     "name": "stdout",
     "output_type": "stream",
     "text": [
      "receiptId: object\n",
      "userId: object\n",
      "barcode: object\n",
      "description: object\n",
      "finalPrice: object\n",
      "itemPrice: object\n",
      "needsFetchReview: boolean\n",
      "partnerItemId: object\n",
      "preventTargetGapPoints: boolean\n",
      "quantityPurchased: Int64\n",
      "userFlaggedBarcode: object\n",
      "userFlaggedNewItem: boolean\n",
      "userFlaggedPrice: object\n",
      "userFlaggedQuantity: Int64\n",
      "needsFetchReviewReason: object\n",
      "pointsNotAwardedReason: object\n",
      "pointsPayerId: object\n",
      "rewardsGroup: object\n",
      "rewardsProductPartnerId: object\n",
      "userFlaggedDescription: object\n",
      "originalMetaBriteBarcode: object\n",
      "originalMetaBriteDescription: object\n",
      "brandCode: object\n",
      "competitorRewardsGroup: object\n",
      "discountedItemPrice: object\n",
      "originalReceiptItemText: object\n",
      "itemNumber: object\n",
      "originalMetaBriteQuantityPurchased: Int64\n",
      "pointsEarned: object\n",
      "targetPrice: object\n",
      "competitiveProduct: boolean\n",
      "originalFinalPrice: object\n",
      "originalMetaBriteItemPrice: object\n",
      "deleted: boolean\n",
      "priceAfterCoupon: object\n",
      "metabriteCampaignId: object\n"
     ]
    }
   ],
   "source": [
    "for col_name, dtype in receipt_items_df.dtypes.items():\n",
    "    print(f\"{col_name}: {dtype}\")"
   ]
  },
  {
   "cell_type": "code",
   "execution_count": 41,
   "metadata": {},
   "outputs": [
    {
     "name": "stdout",
     "output_type": "stream",
     "text": [
      "552\n"
     ]
    }
   ],
   "source": [
    "# Identify if there are any barcode values missing in stg_brands\n",
    "receipt_items_barcodes = set(receipt_items_df['barcode'].dropna())\n",
    "brand_barcodes = set(brands_df['barcode'].dropna())\n",
    "barcodes_not_in_brands = receipt_items_barcodes - brand_barcodes\n",
    "print(len(barcodes_not_in_brands))"
   ]
  }
 ],
 "metadata": {
  "kernelspec": {
   "display_name": "venv",
   "language": "python",
   "name": "python3"
  },
  "language_info": {
   "codemirror_mode": {
    "name": "ipython",
    "version": 3
   },
   "file_extension": ".py",
   "mimetype": "text/x-python",
   "name": "python",
   "nbconvert_exporter": "python",
   "pygments_lexer": "ipython3",
   "version": "3.9.6"
  }
 },
 "nbformat": 4,
 "nbformat_minor": 2
}
